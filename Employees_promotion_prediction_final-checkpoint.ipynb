{
 "cells": [
  {
   "cell_type": "code",
   "execution_count": 2,
   "id": "61f8305f",
   "metadata": {},
   "outputs": [
    {
     "ename": "SyntaxError",
     "evalue": "invalid syntax (1931465412.py, line 9)",
     "output_type": "error",
     "traceback": [
      "\u001b[1;36m  Cell \u001b[1;32mIn[2], line 9\u001b[1;36m\u001b[0m\n\u001b[1;33m    pip install seaborn\u001b[0m\n\u001b[1;37m        ^\u001b[0m\n\u001b[1;31mSyntaxError\u001b[0m\u001b[1;31m:\u001b[0m invalid syntax\n"
     ]
    }
   ],
   "source": [
    "# Importing necessary libraries\n",
    "import pandas as pd\n",
    "import numpy as np\n",
    "import matplotlib.pyplot as plt\n",
    "%matplotlib inline\n",
    "import seaborn as sns\n",
    "import warnings\n",
    "warnings.filterwarnings('ignore')\n",
    "pip install seaborn"
   ]
  },
  {
   "cell_type": "code",
   "execution_count": null,
   "id": "10c0bf5b",
   "metadata": {},
   "outputs": [],
   "source": [
    "# Load the data into a dataframe\n",
    "data=pd.read_csv(\"C:\\\\Users\\\\DELL\\\\DATA SCIENCE\\\\DS Projects\\\\P151_Classification Model\\\\Raw Data\\\\employee_promotion.csv\")\n",
    "data.head()"
   ]
  },
  {
   "cell_type": "code",
   "execution_count": null,
   "id": "fcbe3214",
   "metadata": {},
   "outputs": [],
   "source": [
    "data = data.iloc[:,6:]\n",
    "data.head()"
   ]
  },
  {
   "cell_type": "code",
   "execution_count": null,
   "id": "0646d5cf",
   "metadata": {},
   "outputs": [],
   "source": [
    "data.drop('age',axis=1,inplace=True)"
   ]
  },
  {
   "cell_type": "code",
   "execution_count": null,
   "id": "d6f89131",
   "metadata": {},
   "outputs": [],
   "source": [
    "data.head()"
   ]
  },
  {
   "cell_type": "code",
   "execution_count": null,
   "id": "2b0de69c",
   "metadata": {},
   "outputs": [],
   "source": [
    "# To check column names\n",
    "data.columns"
   ]
  },
  {
   "cell_type": "code",
   "execution_count": null,
   "id": "b3c6f6ae",
   "metadata": {},
   "outputs": [],
   "source": [
    "# Checking for no. of rows and columns\n",
    "data.shape"
   ]
  },
  {
   "cell_type": "code",
   "execution_count": null,
   "id": "dc33339f",
   "metadata": {},
   "outputs": [],
   "source": [
    "data.info()"
   ]
  },
  {
   "cell_type": "code",
   "execution_count": null,
   "id": "71d4ba1f",
   "metadata": {},
   "outputs": [],
   "source": [
    "# Summary statistics\n",
    "data.describe()"
   ]
  },
  {
   "cell_type": "code",
   "execution_count": null,
   "id": "0de29711",
   "metadata": {},
   "outputs": [],
   "source": [
    "# Checking for datatypes\n",
    "data.dtypes"
   ]
  },
  {
   "cell_type": "markdown",
   "id": "0b08e137",
   "metadata": {},
   "source": [
    "### missing value treatment"
   ]
  },
  {
   "cell_type": "code",
   "execution_count": null,
   "id": "a96c1198",
   "metadata": {},
   "outputs": [],
   "source": [
    "# Checking for missing values\n",
    "data.isnull().sum()"
   ]
  },
  {
   "cell_type": "code",
   "execution_count": null,
   "id": "f56c4520",
   "metadata": {},
   "outputs": [],
   "source": [
    "cols=data.columns\n",
    "cols"
   ]
  },
  {
   "cell_type": "code",
   "execution_count": null,
   "id": "5cb5f6a7",
   "metadata": {},
   "outputs": [],
   "source": [
    "colours=['#000099','#ffff00']\n",
    "sns.heatmap(data[cols].isnull(),\n",
    "           cmap=sns.color_palette(colours))"
   ]
  },
  {
   "cell_type": "code",
   "execution_count": null,
   "id": "cf0d395b",
   "metadata": {},
   "outputs": [],
   "source": [
    "print('The % of data missing values in previous_year_rating is',(4124/54808)*100)\n",
    "print('The % of data missing values in avg_training_score is',(2560/54808)*100)"
   ]
  },
  {
   "cell_type": "code",
   "execution_count": null,
   "id": "fa2bd1fb",
   "metadata": {},
   "outputs": [],
   "source": [
    "data['previous_year_rating'].skew()"
   ]
  },
  {
   "cell_type": "code",
   "execution_count": null,
   "id": "1b6d62a9",
   "metadata": {},
   "outputs": [],
   "source": [
    "data_median = data['previous_year_rating'].median()\n",
    "data_median"
   ]
  },
  {
   "cell_type": "code",
   "execution_count": null,
   "id": "dcac1d62",
   "metadata": {},
   "outputs": [],
   "source": [
    "data['previous_year_rating'] = data['previous_year_rating'].fillna(data_median)\n",
    "data['previous_year_rating'].isnull().sum()"
   ]
  },
  {
   "cell_type": "code",
   "execution_count": null,
   "id": "8a395847",
   "metadata": {},
   "outputs": [],
   "source": [
    "data['avg_training_score'].skew()"
   ]
  },
  {
   "cell_type": "code",
   "execution_count": null,
   "id": "ed3354ed",
   "metadata": {},
   "outputs": [],
   "source": [
    "data_mean = data['avg_training_score'].mean()\n",
    "data_mean"
   ]
  },
  {
   "cell_type": "code",
   "execution_count": null,
   "id": "e76dd481",
   "metadata": {},
   "outputs": [],
   "source": [
    "data['avg_training_score'] = data['avg_training_score'].fillna(data_mean)\n",
    "data['avg_training_score'].isnull().sum()"
   ]
  },
  {
   "cell_type": "code",
   "execution_count": null,
   "id": "270a46f4",
   "metadata": {},
   "outputs": [],
   "source": [
    "data.isnull().sum()"
   ]
  },
  {
   "cell_type": "markdown",
   "id": "250f3488",
   "metadata": {},
   "source": [
    "### Duplicates"
   ]
  },
  {
   "cell_type": "code",
   "execution_count": null,
   "id": "1467aa33",
   "metadata": {},
   "outputs": [],
   "source": [
    "data.duplicated()"
   ]
  },
  {
   "cell_type": "code",
   "execution_count": null,
   "id": "dce67a68",
   "metadata": {},
   "outputs": [],
   "source": [
    "data[data.duplicated()]"
   ]
  },
  {
   "cell_type": "code",
   "execution_count": null,
   "id": "506a9bf5",
   "metadata": {},
   "outputs": [],
   "source": [
    "data = data.drop_duplicates()"
   ]
  },
  {
   "cell_type": "code",
   "execution_count": null,
   "id": "ba943093",
   "metadata": {},
   "outputs": [],
   "source": [
    "data[data.duplicated()]"
   ]
  },
  {
   "cell_type": "markdown",
   "id": "5682329d",
   "metadata": {},
   "source": [
    "## Visualization"
   ]
  },
  {
   "cell_type": "markdown",
   "id": "96e4a23e",
   "metadata": {},
   "source": [
    "### Univariate Analysis"
   ]
  },
  {
   "cell_type": "markdown",
   "id": "de0e52f7",
   "metadata": {},
   "source": [
    "### Numerical feature distribution"
   ]
  },
  {
   "cell_type": "code",
   "execution_count": null,
   "id": "7a2e8f3d",
   "metadata": {},
   "outputs": [],
   "source": [
    "data['no_of_trainings'].hist()"
   ]
  },
  {
   "cell_type": "code",
   "execution_count": null,
   "id": "94ec196a",
   "metadata": {},
   "outputs": [],
   "source": [
    "data['previous_year_rating'].hist()"
   ]
  },
  {
   "cell_type": "code",
   "execution_count": null,
   "id": "ad7db1e0",
   "metadata": {},
   "outputs": [],
   "source": [
    "data['length_of_service'].hist()"
   ]
  },
  {
   "cell_type": "code",
   "execution_count": null,
   "id": "465abbea",
   "metadata": {},
   "outputs": [],
   "source": [
    "data['awards_won'].hist()"
   ]
  },
  {
   "cell_type": "code",
   "execution_count": null,
   "id": "d9f89603",
   "metadata": {},
   "outputs": [],
   "source": [
    "data['avg_training_score'].hist()"
   ]
  },
  {
   "cell_type": "markdown",
   "id": "9acbf7db",
   "metadata": {},
   "source": [
    "### Countplot for is_promoted"
   ]
  },
  {
   "cell_type": "code",
   "execution_count": null,
   "id": "03255e2d",
   "metadata": {},
   "outputs": [],
   "source": [
    "print(data['is_promoted'].value_counts())\n",
    "sns.countplot(x=data['is_promoted'])"
   ]
  },
  {
   "cell_type": "code",
   "execution_count": null,
   "id": "dd147cff",
   "metadata": {},
   "outputs": [],
   "source": [
    "# scatter plot"
   ]
  },
  {
   "cell_type": "code",
   "execution_count": null,
   "id": "8be7c903",
   "metadata": {},
   "outputs": [],
   "source": [
    "sns.pairplot(data)"
   ]
  },
  {
   "cell_type": "code",
   "execution_count": null,
   "id": "bb0ac897",
   "metadata": {},
   "outputs": [],
   "source": [
    "data.corr()"
   ]
  },
  {
   "cell_type": "code",
   "execution_count": null,
   "id": "5b60da03",
   "metadata": {},
   "outputs": [],
   "source": [
    "plt.figure(figsize=(10,7))\n",
    "sns.heatmap(data.corr(),annot=True)\n",
    "plt.show()"
   ]
  },
  {
   "cell_type": "markdown",
   "id": "c53db189",
   "metadata": {},
   "source": [
    "## Dividing data in X and Y"
   ]
  },
  {
   "cell_type": "code",
   "execution_count": null,
   "id": "11cf3320",
   "metadata": {},
   "outputs": [],
   "source": [
    "# Splitting the independent and dependent variables\n",
    "X = data.drop(columns=\"is_promoted\",axis=1)\n",
    "Y = data.is_promoted\n",
    "X.shape,Y.shape"
   ]
  },
  {
   "cell_type": "markdown",
   "id": "16529705",
   "metadata": {},
   "source": [
    "## Feature Scaling"
   ]
  },
  {
   "cell_type": "code",
   "execution_count": null,
   "id": "d8f896a4",
   "metadata": {},
   "outputs": [],
   "source": [
    "from sklearn.preprocessing import StandardScaler"
   ]
  },
  {
   "cell_type": "code",
   "execution_count": null,
   "id": "3a41c1a7",
   "metadata": {},
   "outputs": [],
   "source": [
    "# standardization \n",
    "std_scaler = StandardScaler()\n",
    "X_scaler = std_scaler.fit_transform(X) \n",
    "print(X_scaler)"
   ]
  },
  {
   "cell_type": "code",
   "execution_count": null,
   "id": "c233cf18",
   "metadata": {},
   "outputs": [],
   "source": [
    "#Spliting the variable into train and test\n",
    "from sklearn.model_selection import train_test_split\n",
    "X_train, X_test, y_train, y_test = train_test_split(X_scaler,Y, test_size=0.20, random_state=40)\n"
   ]
  },
  {
   "cell_type": "markdown",
   "id": "c9bd95e9",
   "metadata": {},
   "source": [
    "## MODEL BUILDING"
   ]
  },
  {
   "cell_type": "markdown",
   "id": "de7cacd5",
   "metadata": {},
   "source": [
    "## 1. RANDOM FOREST CLASSIFIER"
   ]
  },
  {
   "cell_type": "code",
   "execution_count": null,
   "id": "d500a98a",
   "metadata": {},
   "outputs": [],
   "source": [
    "from sklearn.ensemble import RandomForestClassifier\n",
    "rfc_model = RandomForestClassifier(n_jobs=2, random_state=40)\n",
    "rfc_model.fit(X_train,y_train)"
   ]
  },
  {
   "cell_type": "markdown",
   "id": "e74d4ebb",
   "metadata": {},
   "source": [
    "### Validation of model\n"
   ]
  },
  {
   "cell_type": "code",
   "execution_count": null,
   "id": "31cd8cb5",
   "metadata": {},
   "outputs": [],
   "source": [
    "y_pred_rfc_train= rfc_model.predict(X_train)"
   ]
  },
  {
   "cell_type": "code",
   "execution_count": null,
   "id": "8d387f1f",
   "metadata": {},
   "outputs": [],
   "source": [
    "from sklearn.metrics import accuracy_score\n",
    "from sklearn.metrics import confusion_matrix\n",
    "from sklearn.metrics import classification_report"
   ]
  },
  {
   "cell_type": "code",
   "execution_count": null,
   "id": "872e782f",
   "metadata": {},
   "outputs": [],
   "source": [
    "print(\"Accuracy of training model\",accuracy_score(y_train,y_pred_rfc_train))\n",
    "print(\"==============================================================================\")\n",
    "print(\"Confusion Matrics\",confusion_matrix(y_train,y_pred_rfc_train))\n",
    "print(\"==============================================================================\")\n",
    "print(\"Classificaton Report \",classification_report(y_train,y_pred_rfc_train))"
   ]
  },
  {
   "cell_type": "code",
   "execution_count": null,
   "id": "779c2017",
   "metadata": {},
   "outputs": [],
   "source": [
    "y_pred_rfc_test= rfc_model.predict(X_test)"
   ]
  },
  {
   "cell_type": "code",
   "execution_count": null,
   "id": "d9c9b699",
   "metadata": {},
   "outputs": [],
   "source": [
    "print(\"Accuracy of testing model\",accuracy_score(y_test,y_pred_rfc_test))\n",
    "print(\"==============================================================================\")\n",
    "print(\"Confusion Matrics\",confusion_matrix(y_test,y_pred_rfc_test))\n",
    "print(\"==============================================================================\")\n",
    "print(\"Classificaton Report\",classification_report(y_test,y_pred_rfc_test))"
   ]
  },
  {
   "cell_type": "markdown",
   "id": "7ede2e30",
   "metadata": {},
   "source": [
    "## 2. LOGISTIC REGRESSION"
   ]
  },
  {
   "cell_type": "code",
   "execution_count": null,
   "id": "bfb3a95b",
   "metadata": {},
   "outputs": [],
   "source": [
    "from sklearn.linear_model import LogisticRegression\n",
    "lr_model=LogisticRegression()\n",
    "lr_model.fit(X_train,y_train)"
   ]
  },
  {
   "cell_type": "markdown",
   "id": "544fd76f",
   "metadata": {},
   "source": [
    "### Validation of model"
   ]
  },
  {
   "cell_type": "code",
   "execution_count": null,
   "id": "505e4767",
   "metadata": {},
   "outputs": [],
   "source": [
    "y_pred_lr_train=lr_model.predict(X_train)"
   ]
  },
  {
   "cell_type": "code",
   "execution_count": null,
   "id": "875295e6",
   "metadata": {},
   "outputs": [],
   "source": [
    "print(\"Accuracy of training model\",accuracy_score(y_train,y_pred_lr_train))\n",
    "print(\"==============================================================================\")\n",
    "print(\"Confusion Matrics\",confusion_matrix(y_train,y_pred_lr_train))\n",
    "print(\"==============================================================================\")\n",
    "print(\"Classificaton Report \",classification_report(y_train,y_pred_lr_train))"
   ]
  },
  {
   "cell_type": "code",
   "execution_count": null,
   "id": "7a72c091",
   "metadata": {},
   "outputs": [],
   "source": [
    "y_pred_lr_test= lr_model.predict(X_test)"
   ]
  },
  {
   "cell_type": "code",
   "execution_count": null,
   "id": "1b1d1e2f",
   "metadata": {},
   "outputs": [],
   "source": [
    "print(\"Accuracy of testing model\",accuracy_score(y_test,y_pred_lr_test))\n",
    "print(\"==============================================================================\")\n",
    "print(\"Confusion Matrics\",confusion_matrix(y_test,y_pred_lr_test))\n",
    "print(\"==============================================================================\")\n",
    "print(\"Classificaton Report\",classification_report(y_test,y_pred_lr_test))"
   ]
  },
  {
   "cell_type": "markdown",
   "id": "699a380a",
   "metadata": {},
   "source": [
    "## 3. GAUSSIAN NAIVE BAYES CLASSIFIER"
   ]
  },
  {
   "cell_type": "code",
   "execution_count": null,
   "id": "5739a437",
   "metadata": {},
   "outputs": [],
   "source": [
    "# training the model on training set\n",
    "from sklearn.naive_bayes import GaussianNB\n",
    "gnb_model= GaussianNB()\n",
    "gnb_model.fit(X_train, y_train)"
   ]
  },
  {
   "cell_type": "markdown",
   "id": "8639f7cd",
   "metadata": {},
   "source": [
    "### Validation of model"
   ]
  },
  {
   "cell_type": "code",
   "execution_count": null,
   "id": "d4343d83",
   "metadata": {},
   "outputs": [],
   "source": [
    "y_pred_gnb_train=gnb_model.predict(X_train)"
   ]
  },
  {
   "cell_type": "code",
   "execution_count": null,
   "id": "d180deac",
   "metadata": {},
   "outputs": [],
   "source": [
    "print(\"Accuracy of training model\",accuracy_score(y_train,y_pred_gnb_train))\n",
    "print(\"==============================================================================\")\n",
    "print(\"Confusion Matrics\",confusion_matrix(y_train,y_pred_gnb_train))\n",
    "print(\"==============================================================================\")\n",
    "print(\"Classificaton Report \",classification_report(y_train,y_pred_gnb_train))"
   ]
  },
  {
   "cell_type": "code",
   "execution_count": null,
   "id": "97768a5b",
   "metadata": {},
   "outputs": [],
   "source": [
    "y_pred_gnb_test = gnb_model.predict(X_test)"
   ]
  },
  {
   "cell_type": "code",
   "execution_count": null,
   "id": "27328a32",
   "metadata": {},
   "outputs": [],
   "source": [
    "print(\"Accuracy of testing model\",accuracy_score(y_test,y_pred_gnb_test))\n",
    "print(\"==============================================================================\")\n",
    "print(\"Confusion Matrics\",confusion_matrix(y_test,y_pred_gnb_test))\n",
    "print(\"==============================================================================\")\n",
    "print(\"Classificaton Report\",classification_report(y_test,y_pred_gnb_test))"
   ]
  },
  {
   "cell_type": "markdown",
   "id": "8095b597",
   "metadata": {},
   "source": [
    "## 4. SUPPORT VECTOR MACHINE"
   ]
  },
  {
   "cell_type": "code",
   "execution_count": null,
   "id": "c32ae112",
   "metadata": {},
   "outputs": [],
   "source": [
    "from sklearn.svm import SVC\n",
    "# Building a Support Vector Machine on train data\n",
    "svc_model = SVC(C= .1, kernel='linear', gamma= 1)\n",
    "svc_model.fit(X_train, y_train)"
   ]
  },
  {
   "cell_type": "markdown",
   "id": "3e24275b",
   "metadata": {},
   "source": [
    "### Validation of model"
   ]
  },
  {
   "cell_type": "code",
   "execution_count": null,
   "id": "465dbbc0",
   "metadata": {},
   "outputs": [],
   "source": [
    "y_pred_svc_train=svc_model.predict(X_train)"
   ]
  },
  {
   "cell_type": "code",
   "execution_count": null,
   "id": "0cd9150a",
   "metadata": {},
   "outputs": [],
   "source": [
    "print(\"Accuracy of training model\",accuracy_score(y_train,y_pred_svc_train))\n",
    "print(\"==============================================================================\")\n",
    "print(\"Confusion Matrics\",confusion_matrix(y_train,y_pred_svc_train))\n",
    "print(\"==============================================================================\")\n",
    "print(\"Classificaton Report \",classification_report(y_train,y_pred_svc_train))"
   ]
  },
  {
   "cell_type": "code",
   "execution_count": null,
   "id": "aaccc387",
   "metadata": {},
   "outputs": [],
   "source": [
    "y_pred_svc_test = svc_model.predict(X_test)"
   ]
  },
  {
   "cell_type": "code",
   "execution_count": null,
   "id": "1c8c7439",
   "metadata": {},
   "outputs": [],
   "source": [
    "print(\"Accuracy of testing model\",accuracy_score(y_test,y_pred_svc_test))\n",
    "print(\"==============================================================================\")\n",
    "print(\"Confusion Matrics\",confusion_matrix(y_test,y_pred_svc_test))\n",
    "print(\"==============================================================================\")\n",
    "print(\"Classificaton Report\",classification_report(y_test,y_pred_svc_test))"
   ]
  },
  {
   "cell_type": "markdown",
   "id": "e4257475",
   "metadata": {},
   "source": [
    "## 5. XGBOOST CLASSIFIER"
   ]
  },
  {
   "cell_type": "code",
   "execution_count": null,
   "id": "5c72ad56",
   "metadata": {},
   "outputs": [],
   "source": [
    "!pip install xgboost"
   ]
  },
  {
   "cell_type": "code",
   "execution_count": null,
   "id": "118ecd9c",
   "metadata": {},
   "outputs": [],
   "source": [
    "from xgboost import XGBClassifier\n",
    "xgb_model = XGBClassifier()\n",
    "xgb_model.fit(X_train, y_train)"
   ]
  },
  {
   "cell_type": "markdown",
   "id": "bc370e2e",
   "metadata": {},
   "source": [
    "### Validation of model"
   ]
  },
  {
   "cell_type": "code",
   "execution_count": null,
   "id": "03e2bb4e",
   "metadata": {},
   "outputs": [],
   "source": [
    "y_pred_xgb_train=xgb_model.predict(X_train)"
   ]
  },
  {
   "cell_type": "code",
   "execution_count": null,
   "id": "afd85468",
   "metadata": {},
   "outputs": [],
   "source": [
    "print(\"Accuracy of training model\",accuracy_score(y_train,y_pred_xgb_train))\n",
    "print(\"==============================================================================\")\n",
    "print(\"Confusion Matrics\",confusion_matrix(y_train,y_pred_xgb_train))\n",
    "print(\"==============================================================================\")\n",
    "print(\"Classificaton Report \",classification_report(y_train,y_pred_xgb_train))"
   ]
  },
  {
   "cell_type": "code",
   "execution_count": null,
   "id": "493dbe5b",
   "metadata": {},
   "outputs": [],
   "source": [
    "y_pred_xgb_test = xgb_model.predict(X_test)"
   ]
  },
  {
   "cell_type": "markdown",
   "id": "3e1ba241",
   "metadata": {},
   "source": [
    "## 6. DECISION TREE"
   ]
  },
  {
   "cell_type": "code",
   "execution_count": null,
   "id": "b99144b3",
   "metadata": {},
   "outputs": [],
   "source": [
    "from sklearn.tree import DecisionTreeClassifier\n",
    "dtc_model=DecisionTreeClassifier(criterion = 'entropy')\n",
    "dtc_model.fit(X_train,y_train)"
   ]
  },
  {
   "cell_type": "markdown",
   "id": "a2c6747d",
   "metadata": {},
   "source": [
    "### Validation of model"
   ]
  },
  {
   "cell_type": "code",
   "execution_count": null,
   "id": "20d1b897",
   "metadata": {},
   "outputs": [],
   "source": [
    "y_pred_dtc_train = dtc_model.predict(X_train)"
   ]
  },
  {
   "cell_type": "code",
   "execution_count": null,
   "id": "dc8f3059",
   "metadata": {},
   "outputs": [],
   "source": [
    "print(\"Accuracy of training model\",accuracy_score(y_train,y_pred_dtc_train))\n",
    "print(\"==============================================================================\")\n",
    "print(\"Confusion Matrics\",confusion_matrix(y_train,y_pred_dtc_train))\n",
    "print(\"==============================================================================\")\n",
    "print(\"Classificaton Report \",classification_report(y_train,y_pred_dtc_train))"
   ]
  },
  {
   "cell_type": "code",
   "execution_count": null,
   "id": "84077e00",
   "metadata": {},
   "outputs": [],
   "source": [
    "y_pred_dtc_test = dtc_model.predict(X_test)"
   ]
  },
  {
   "cell_type": "code",
   "execution_count": null,
   "id": "77504c0d",
   "metadata": {},
   "outputs": [],
   "source": [
    "print(\"Accuracy of training model\",accuracy_score(y_train,y_pred_dtc_train))\n",
    "print(\"==============================================================================\")\n",
    "print(\"Confusion Matrics\",confusion_matrix(y_train,y_pred_dtc_train))\n",
    "print(\"==============================================================================\")\n",
    "print(\"Classificaton Report \",classification_report(y_train,y_pred_dtc_train))"
   ]
  },
  {
   "cell_type": "code",
   "execution_count": null,
   "id": "9a9866f6",
   "metadata": {},
   "outputs": [],
   "source": [
    "y_pred_knn_test = dtc_model.predict(X_test)"
   ]
  },
  {
   "cell_type": "code",
   "execution_count": null,
   "id": "0c60b320",
   "metadata": {},
   "outputs": [],
   "source": [
    "print(\"Accuracy of testing model\",accuracy_score(y_test,y_pred_dtc_test))\n",
    "print(\"==============================================================================\")\n",
    "print(\"Confusion Matrics\",confusion_matrix(y_test,y_pred_dtc_test))\n",
    "print(\"==============================================================================\")\n",
    "print(\"Classificaton Report\",classification_report(y_test,y_pred_dtc_test))"
   ]
  },
  {
   "cell_type": "markdown",
   "id": "43e4ec51",
   "metadata": {},
   "source": [
    "# 7 KNN"
   ]
  },
  {
   "cell_type": "code",
   "execution_count": null,
   "id": "f6425b6e",
   "metadata": {},
   "outputs": [],
   "source": [
    "from sklearn.neighbors import KNeighborsClassifier\n",
    "knn_model = KNeighborsClassifier(n_neighbors = 3)\n",
    "knn_model.fit(X_train,y_train)"
   ]
  },
  {
   "cell_type": "markdown",
   "id": "84defba5",
   "metadata": {},
   "source": [
    "### Validation of model"
   ]
  },
  {
   "cell_type": "code",
   "execution_count": null,
   "id": "fb092808",
   "metadata": {},
   "outputs": [],
   "source": [
    "y_pred_knn_train = knn_model.predict(X_train)"
   ]
  },
  {
   "cell_type": "code",
   "execution_count": null,
   "id": "6c8d6956",
   "metadata": {},
   "outputs": [],
   "source": [
    "print(\"Accuracy of training model\",accuracy_score(y_train,y_pred_knn_train))\n",
    "print(\"==============================================================================\")\n",
    "print(\"Confusion Matrics\",confusion_matrix(y_train,y_pred_knn_train))\n",
    "print(\"==============================================================================\")\n",
    "print(\"Classificaton Report \",classification_report(y_train,y_pred_knn_train))"
   ]
  },
  {
   "cell_type": "code",
   "execution_count": null,
   "id": "dea47774",
   "metadata": {},
   "outputs": [],
   "source": [
    "y_pred_knn_test = knn_model.predict(X_test)"
   ]
  },
  {
   "cell_type": "code",
   "execution_count": null,
   "id": "c1e1489f",
   "metadata": {},
   "outputs": [],
   "source": [
    "print(\"Accuracy of testing model\",accuracy_score(y_test,y_pred_knn_test))\n",
    "print(\"==============================================================================\")\n",
    "print(\"Confusion Matrics\",confusion_matrix(y_test,y_pred_knn_test))\n",
    "print(\"==============================================================================\")\n",
    "print(\"Classificaton Report\",classification_report(y_test,y_pred_knn_test))"
   ]
  },
  {
   "cell_type": "code",
   "execution_count": null,
   "id": "5d1488ad",
   "metadata": {},
   "outputs": [],
   "source": [
    "#Spliting the variable into train and test\n",
    "from sklearn.model_selection import train_test_split\n",
    "X_train, X_test, y_train, y_test = train_test_split(X_scaler,Y, test_size=0.20, random_state=2903)"
   ]
  },
  {
   "cell_type": "markdown",
   "id": "60b6e52a",
   "metadata": {},
   "source": [
    "# 8. GradientBoostingClassifier"
   ]
  },
  {
   "cell_type": "code",
   "execution_count": null,
   "id": "3d5798db",
   "metadata": {},
   "outputs": [],
   "source": [
    "from sklearn.ensemble import GradientBoostingClassifier\n",
    "gbc_model = GradientBoostingClassifier(ccp_alpha=0.0, criterion='friedman_mse', init=None,\n",
    "                                       learning_rate=0.1, loss='deviance', max_depth=3,\n",
    "                                       max_features=None, max_leaf_nodes=None,\n",
    "                                       min_impurity_decrease=0.0,\n",
    "                                       min_samples_leaf=1, min_samples_split=2,\n",
    "                                       min_weight_fraction_leaf=0.0, n_estimators=100,\n",
    "                                       n_iter_no_change=None,\n",
    "                                       random_state=2903, subsample=1.0, tol=0.0001,\n",
    "                                       validation_fraction=0.1, verbose=0,\n",
    "                                       warm_start=False)\n",
    "gbc_model.fit(X_train,y_train)"
   ]
  },
  {
   "cell_type": "markdown",
   "id": "eb4b3f91",
   "metadata": {},
   "source": [
    "### Validation of model"
   ]
  },
  {
   "cell_type": "code",
   "execution_count": null,
   "id": "5ebf618b",
   "metadata": {},
   "outputs": [],
   "source": [
    "y_pred_gbc_train= gbc_model.predict(X_train)"
   ]
  },
  {
   "cell_type": "code",
   "execution_count": null,
   "id": "ea92afc7",
   "metadata": {},
   "outputs": [],
   "source": [
    "print(\"Accuracy of training model\",accuracy_score(y_train,y_pred_gbc_train))\n",
    "print(\"==============================================================================\")\n",
    "print(\"Confusion Matrics\",confusion_matrix(y_train,y_pred_gbc_train))\n",
    "print(\"==============================================================================\")\n",
    "print(\"Classificaton Report \",classification_report(y_train,y_pred_gbc_train))"
   ]
  },
  {
   "cell_type": "code",
   "execution_count": null,
   "id": "04e2d6f5",
   "metadata": {},
   "outputs": [],
   "source": [
    "y_pred_gbc_test= gbc_model.predict(X_test)"
   ]
  },
  {
   "cell_type": "code",
   "execution_count": null,
   "id": "a586e95f",
   "metadata": {},
   "outputs": [],
   "source": [
    "print(\"Accuracy of testing model\",accuracy_score(y_test,y_pred_gbc_test))\n",
    "print(\"==============================================================================\")\n",
    "print(\"Confusion Matrics\",confusion_matrix(y_test,y_pred_gbc_test))\n",
    "print(\"==============================================================================\")\n",
    "print(\"Classificaton Report\",classification_report(y_test,y_pred_gbc_test))"
   ]
  },
  {
   "cell_type": "markdown",
   "id": "e9a9450a",
   "metadata": {},
   "source": [
    "## Accuracy comparision"
   ]
  },
  {
   "cell_type": "code",
   "execution_count": null,
   "id": "b361fa75",
   "metadata": {},
   "outputs": [],
   "source": [
    "model = ['RANDOM FOREST','LOGISTIC REGRESSION','GAUSSIAN NAIVE BAYES CLASSIFIER','SVC','XGB','DECISION TREE','KNN','GradientBoostingClassifier']\n",
    "\n",
    "training = [\n",
    "     (accuracy_score(y_train,y_pred_rfc_train)*100),\n",
    "     (accuracy_score(y_train,y_pred_lr_train)*100),\n",
    "     (accuracy_score(y_train,y_pred_gnb_train)*100),\n",
    "     (accuracy_score(y_train,y_pred_svc_train)*100),\n",
    "     (accuracy_score(y_train,y_pred_xgb_train)*100),\n",
    "     (accuracy_score(y_train,y_pred_dtc_train)*100),\n",
    "     (accuracy_score(y_train,y_pred_knn_train)*100),\n",
    "     (accuracy_score(y_train,y_pred_gbc_train)*100)\n",
    "]\n",
    "\n",
    "testing = [\n",
    "     (accuracy_score(y_test,y_pred_rfc_test)*100),\n",
    "     (accuracy_score(y_test,y_pred_lr_test)*100),\n",
    "     (accuracy_score(y_test,y_pred_gnb_test)*100),\n",
    "     (accuracy_score(y_test,y_pred_svc_test)*100),\n",
    "     (accuracy_score(y_test,y_pred_xgb_test)*100),\n",
    "     (accuracy_score(y_test,y_pred_dtc_test)*100),\n",
    "     (accuracy_score(y_test,y_pred_knn_test)*100),\n",
    "     (accuracy_score(y_test,y_pred_gbc_test)*100)\n",
    "]"
   ]
  },
  {
   "cell_type": "code",
   "execution_count": null,
   "id": "013b5eb9",
   "metadata": {},
   "outputs": [],
   "source": [
    "df = pd.DataFrame()\n",
    "df['Model'] = model\n",
    "df['Training'] = training\n",
    "df['Testing'] = testing\n",
    "df"
   ]
  },
  {
   "cell_type": "code",
   "execution_count": null,
   "id": "9e9d2044",
   "metadata": {},
   "outputs": [],
   "source": [
    "import pickle"
   ]
  },
  {
   "cell_type": "code",
   "execution_count": null,
   "id": "bccccbc2",
   "metadata": {},
   "outputs": [],
   "source": [
    "# open a file, where you ant to store the data\n",
    "file = open('gbc_model_pickle','wb')\n",
    "\n",
    "# dump information to that file\n",
    "pickle.dump(gbc_model,file)"
   ]
  },
  {
   "cell_type": "code",
   "execution_count": null,
   "id": "fc41ffc0",
   "metadata": {},
   "outputs": [],
   "source": []
  }
 ],
 "metadata": {
  "kernelspec": {
   "display_name": "Python 3 (ipykernel)",
   "language": "python",
   "name": "python3"
  },
  "language_info": {
   "codemirror_mode": {
    "name": "ipython",
    "version": 3
   },
   "file_extension": ".py",
   "mimetype": "text/x-python",
   "name": "python",
   "nbconvert_exporter": "python",
   "pygments_lexer": "ipython3",
   "version": "3.11.1"
  }
 },
 "nbformat": 4,
 "nbformat_minor": 5
}
